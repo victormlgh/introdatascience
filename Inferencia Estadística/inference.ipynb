{
 "cells": [
  {
   "cell_type": "markdown",
   "metadata": {},
   "source": [
    "<h1>Análisis de Inferencia Estadística en el Mercado de Alojamientos de Airbnb en Berlín, Alemania: Una Exploración de Muestras y Población</h1>\n",
    "Por Víctor González\n",
    "\n",
    "<h2>Introducción</h2>\n",
    "\n",
    "El impacto de plataformas de alojamiento como Airbnb en ciudades globales como Berlín, Alemania, ha sido profundo y multifacético. Estas plataformas han redefinido la dinámica del mercado de hospedaje al permitir a los propietarios de viviendas particulares ofrecer sus propiedades a turistas y visitantes a corto plazo, a menudo proporcionando una alternativa más flexible y económica a los alojamientos tradicionales. Sin embargo, junto con los beneficios evidentes, surgen desafíos significativos, como la regulación urbana, el impacto en los precios de la vivienda local y la cohesión comunitaria.\n",
    "\n",
    "En el caso específico de Berlín, el auge de Airbnb ha suscitado debates acalorados sobre la sostenibilidad del turismo urbano, la preservación del tejido social y la equidad en el acceso a la vivienda. En este contexto complejo, la inferencia estadística emerge como una herramienta fundamental para comprender la naturaleza y las implicaciones de este fenómeno. A través del análisis de muestras representativas de las propiedades listadas en Airbnb, podemos extrapolar conclusiones sobre la población más amplia de alojamientos en la ciudad. Esto no solo nos permite evaluar características clave como los precios, la ubicación geográfica y las preferencias de los huéspedes, sino que también nos ofrece perspectivas críticas sobre cómo estas propiedades se integran en el tejido urbano existente y afectan tanto a residentes locales como a visitantes.\n",
    "\n",
    "Este estudio explorará cómo la aplicación rigurosa de técnicas de inferencia estadística puede iluminar la dinámica compleja entre las muestras de alojamientos de Airbnb y la población general de Berlín. Al hacerlo, no solo aspira a informar a los formuladores de políticas urbanas, sino también a proporcionar una base sólida para la planificación futura y la gestión sostenible del crecimiento turístico en la ciudad.\n",
    "\n",
    "<h2>Contexto</h2>\n",
    "\n",
    "En la práctica del análisis de datos, una tarea típica es deducir conclusiones sobre algún aspecto desconocido de una población de interés basándonos en datos observados que son una muestra de esa población; generalmente no tenemos datos de toda la población. Las preguntas de análisis de datos sobre cómo se extienden los resúmenes, patrones, tendencias o relaciones en un conjunto de datos a la población más amplia se llaman preguntas inferenciales. Vamos a iniciar con las ideas fundamentales del muestreo de poblaciones y luego introducirá dos técnicas comunes en inferencia estadística: la estimación puntual y la estimación por intervalos.\n",
    "\n",
    "<h3>Estimación Puntual</h3>\n",
    "La estimación puntual consiste en utilizar un único valor numérico para aproximar el parámetro desconocido de interés en la población. Este valor se calcula a partir de los datos muestrales y se utiliza como una estimación directa del parámetro poblacional. Por ejemplo, si estamos interesados en la media poblacional de una cierta variable (como el precio promedio de los alojamientos de Airbnb en Berlín), podemos calcular la media muestral y utilizarla como estimación puntual de la media poblacional.\n",
    "\n",
    "<h3>Estimación por Intervalos</h3>\n",
    "La estimación por intervalos, también conocida como intervalo de confianza, proporciona un rango de valores dentro del cual se espera que esté contenido el parámetro poblacional desconocido con cierto nivel de confianza. Este intervalo se calcula a partir de los datos muestrales y tiene en cuenta la variabilidad de la muestra y el tamaño de la muestra.\n",
    "\n",
    "<h2>Código en Python</h2>\n",
    "\n",
    "Para trabajar en Python debemos importar las librerias que vamos a utilizar para cargar los datos y poder analizarlos."
   ]
  },
  {
   "cell_type": "code",
   "execution_count": 1,
   "metadata": {},
   "outputs": [],
   "source": [
    "import seaborn as sns\n",
    "from matplotlib import pyplot as plt\n",
    "import numpy as np\n",
    "import math\n",
    "import pandas as pd"
   ]
  },
  {
   "cell_type": "markdown",
   "metadata": {},
   "source": [
    "Los datos esta disponible para descargar directamente desde el repositorio de <a href='https://data.insideairbnb.com/germany/be/berlin/2024-03-24/data/listings.csv.gz'>Inside Airbnb</a>. Inside Airbnb es un proyecto independiente que recopila y analiza datos públicos de la plataforma Airbnb con el objetivo de proporcionar transparencia y comprensión sobre el impacto de Airbnb en diferentes ciudades de todo el mundo. Este proyecto utiliza técnicas de extracción de datos para obtener información detallada sobre las listas de alojamientos, incluyendo detalles como precios, ubicaciones, disponibilidad y tipos de propiedades ofrecidas.\n",
    "\n",
    "Se puede observar las primeras 5 filas del conjunto de datos y su dimensión."
   ]
  },
  {
   "cell_type": "code",
   "execution_count": 2,
   "metadata": {},
   "outputs": [
    {
     "data": {
      "text/plain": [
       "(13362, 75)"
      ]
     },
     "metadata": {},
     "output_type": "display_data"
    },
    {
     "data": {
      "text/html": [
       "<div>\n",
       "<style scoped>\n",
       "    .dataframe tbody tr th:only-of-type {\n",
       "        vertical-align: middle;\n",
       "    }\n",
       "\n",
       "    .dataframe tbody tr th {\n",
       "        vertical-align: top;\n",
       "    }\n",
       "\n",
       "    .dataframe thead th {\n",
       "        text-align: right;\n",
       "    }\n",
       "</style>\n",
       "<table border=\"1\" class=\"dataframe\">\n",
       "  <thead>\n",
       "    <tr style=\"text-align: right;\">\n",
       "      <th></th>\n",
       "      <th>id</th>\n",
       "      <th>listing_url</th>\n",
       "      <th>scrape_id</th>\n",
       "      <th>last_scraped</th>\n",
       "      <th>source</th>\n",
       "      <th>name</th>\n",
       "      <th>description</th>\n",
       "      <th>neighborhood_overview</th>\n",
       "      <th>picture_url</th>\n",
       "      <th>host_id</th>\n",
       "      <th>...</th>\n",
       "      <th>review_scores_communication</th>\n",
       "      <th>review_scores_location</th>\n",
       "      <th>review_scores_value</th>\n",
       "      <th>license</th>\n",
       "      <th>instant_bookable</th>\n",
       "      <th>calculated_host_listings_count</th>\n",
       "      <th>calculated_host_listings_count_entire_homes</th>\n",
       "      <th>calculated_host_listings_count_private_rooms</th>\n",
       "      <th>calculated_host_listings_count_shared_rooms</th>\n",
       "      <th>reviews_per_month</th>\n",
       "    </tr>\n",
       "  </thead>\n",
       "  <tbody>\n",
       "    <tr>\n",
       "      <th>0</th>\n",
       "      <td>3176</td>\n",
       "      <td>https://www.airbnb.com/rooms/3176</td>\n",
       "      <td>20240324214732</td>\n",
       "      <td>2024-03-25</td>\n",
       "      <td>city scrape</td>\n",
       "      <td>Fabulous Flat in great Location</td>\n",
       "      <td>This beautiful first floor apartment  is situa...</td>\n",
       "      <td>The neighbourhood is famous for its variety of...</td>\n",
       "      <td>https://a0.muscache.com/pictures/243355/84afcf...</td>\n",
       "      <td>3718</td>\n",
       "      <td>...</td>\n",
       "      <td>4.69</td>\n",
       "      <td>4.92</td>\n",
       "      <td>4.62</td>\n",
       "      <td>First name and Last name: Nicolas Krotz &lt;br/&gt; ...</td>\n",
       "      <td>f</td>\n",
       "      <td>1</td>\n",
       "      <td>1</td>\n",
       "      <td>0</td>\n",
       "      <td>0</td>\n",
       "      <td>0.82</td>\n",
       "    </tr>\n",
       "    <tr>\n",
       "      <th>1</th>\n",
       "      <td>9991</td>\n",
       "      <td>https://www.airbnb.com/rooms/9991</td>\n",
       "      <td>20240324214732</td>\n",
       "      <td>2024-03-25</td>\n",
       "      <td>city scrape</td>\n",
       "      <td>Geourgeous flat - outstanding views</td>\n",
       "      <td>4 bedroom with very large windows and outstand...</td>\n",
       "      <td>Prenzlauer Berg is an amazing neighbourhood wh...</td>\n",
       "      <td>https://a0.muscache.com/pictures/42799131/59c8...</td>\n",
       "      <td>33852</td>\n",
       "      <td>...</td>\n",
       "      <td>5.00</td>\n",
       "      <td>4.86</td>\n",
       "      <td>4.86</td>\n",
       "      <td>03/Z/RA/003410-18</td>\n",
       "      <td>f</td>\n",
       "      <td>1</td>\n",
       "      <td>1</td>\n",
       "      <td>0</td>\n",
       "      <td>0</td>\n",
       "      <td>0.07</td>\n",
       "    </tr>\n",
       "    <tr>\n",
       "      <th>2</th>\n",
       "      <td>14325</td>\n",
       "      <td>https://www.airbnb.com/rooms/14325</td>\n",
       "      <td>20240324214732</td>\n",
       "      <td>2024-03-25</td>\n",
       "      <td>city scrape</td>\n",
       "      <td>Studio Apartment in Prenzlauer Berg</td>\n",
       "      <td>The apartment is located on the upper second f...</td>\n",
       "      <td>NaN</td>\n",
       "      <td>https://a0.muscache.com/pictures/508703/24988a...</td>\n",
       "      <td>55531</td>\n",
       "      <td>...</td>\n",
       "      <td>4.85</td>\n",
       "      <td>4.60</td>\n",
       "      <td>4.45</td>\n",
       "      <td>NaN</td>\n",
       "      <td>f</td>\n",
       "      <td>4</td>\n",
       "      <td>4</td>\n",
       "      <td>0</td>\n",
       "      <td>0</td>\n",
       "      <td>0.16</td>\n",
       "    </tr>\n",
       "    <tr>\n",
       "      <th>3</th>\n",
       "      <td>16644</td>\n",
       "      <td>https://www.airbnb.com/rooms/16644</td>\n",
       "      <td>20240324214732</td>\n",
       "      <td>2024-03-25</td>\n",
       "      <td>city scrape</td>\n",
       "      <td>In the Heart of Berlin - Kreuzberg</td>\n",
       "      <td>Light and sunny 2-Room-turn of the century-fla...</td>\n",
       "      <td>Our Part of Kreuzberg is just the best. Good v...</td>\n",
       "      <td>https://a0.muscache.com/pictures/73759174/e2ef...</td>\n",
       "      <td>64696</td>\n",
       "      <td>...</td>\n",
       "      <td>4.86</td>\n",
       "      <td>4.67</td>\n",
       "      <td>4.71</td>\n",
       "      <td>NaN</td>\n",
       "      <td>f</td>\n",
       "      <td>2</td>\n",
       "      <td>2</td>\n",
       "      <td>0</td>\n",
       "      <td>0</td>\n",
       "      <td>0.29</td>\n",
       "    </tr>\n",
       "    <tr>\n",
       "      <th>4</th>\n",
       "      <td>17904</td>\n",
       "      <td>https://www.airbnb.com/rooms/17904</td>\n",
       "      <td>20240324214732</td>\n",
       "      <td>2024-03-25</td>\n",
       "      <td>city scrape</td>\n",
       "      <td>Beautiful Kreuzberg studio - 3 months minimum</td>\n",
       "      <td>- apt is available starting September 1, 2024&lt;...</td>\n",
       "      <td>NaN</td>\n",
       "      <td>https://a0.muscache.com/pictures/d9a6f8be-54b9...</td>\n",
       "      <td>68997</td>\n",
       "      <td>...</td>\n",
       "      <td>4.92</td>\n",
       "      <td>4.87</td>\n",
       "      <td>4.65</td>\n",
       "      <td>NaN</td>\n",
       "      <td>f</td>\n",
       "      <td>1</td>\n",
       "      <td>1</td>\n",
       "      <td>0</td>\n",
       "      <td>0</td>\n",
       "      <td>1.74</td>\n",
       "    </tr>\n",
       "  </tbody>\n",
       "</table>\n",
       "<p>5 rows × 75 columns</p>\n",
       "</div>"
      ],
      "text/plain": [
       "      id                         listing_url       scrape_id last_scraped  \\\n",
       "0   3176   https://www.airbnb.com/rooms/3176  20240324214732   2024-03-25   \n",
       "1   9991   https://www.airbnb.com/rooms/9991  20240324214732   2024-03-25   \n",
       "2  14325  https://www.airbnb.com/rooms/14325  20240324214732   2024-03-25   \n",
       "3  16644  https://www.airbnb.com/rooms/16644  20240324214732   2024-03-25   \n",
       "4  17904  https://www.airbnb.com/rooms/17904  20240324214732   2024-03-25   \n",
       "\n",
       "        source                                           name  \\\n",
       "0  city scrape                Fabulous Flat in great Location   \n",
       "1  city scrape            Geourgeous flat - outstanding views   \n",
       "2  city scrape            Studio Apartment in Prenzlauer Berg   \n",
       "3  city scrape             In the Heart of Berlin - Kreuzberg   \n",
       "4  city scrape  Beautiful Kreuzberg studio - 3 months minimum   \n",
       "\n",
       "                                         description  \\\n",
       "0  This beautiful first floor apartment  is situa...   \n",
       "1  4 bedroom with very large windows and outstand...   \n",
       "2  The apartment is located on the upper second f...   \n",
       "3  Light and sunny 2-Room-turn of the century-fla...   \n",
       "4  - apt is available starting September 1, 2024<...   \n",
       "\n",
       "                               neighborhood_overview  \\\n",
       "0  The neighbourhood is famous for its variety of...   \n",
       "1  Prenzlauer Berg is an amazing neighbourhood wh...   \n",
       "2                                                NaN   \n",
       "3  Our Part of Kreuzberg is just the best. Good v...   \n",
       "4                                                NaN   \n",
       "\n",
       "                                         picture_url  host_id  ...  \\\n",
       "0  https://a0.muscache.com/pictures/243355/84afcf...     3718  ...   \n",
       "1  https://a0.muscache.com/pictures/42799131/59c8...    33852  ...   \n",
       "2  https://a0.muscache.com/pictures/508703/24988a...    55531  ...   \n",
       "3  https://a0.muscache.com/pictures/73759174/e2ef...    64696  ...   \n",
       "4  https://a0.muscache.com/pictures/d9a6f8be-54b9...    68997  ...   \n",
       "\n",
       "  review_scores_communication review_scores_location review_scores_value  \\\n",
       "0                        4.69                   4.92                4.62   \n",
       "1                        5.00                   4.86                4.86   \n",
       "2                        4.85                   4.60                4.45   \n",
       "3                        4.86                   4.67                4.71   \n",
       "4                        4.92                   4.87                4.65   \n",
       "\n",
       "                                             license instant_bookable  \\\n",
       "0  First name and Last name: Nicolas Krotz <br/> ...                f   \n",
       "1                                  03/Z/RA/003410-18                f   \n",
       "2                                                NaN                f   \n",
       "3                                                NaN                f   \n",
       "4                                                NaN                f   \n",
       "\n",
       "  calculated_host_listings_count calculated_host_listings_count_entire_homes  \\\n",
       "0                              1                                           1   \n",
       "1                              1                                           1   \n",
       "2                              4                                           4   \n",
       "3                              2                                           2   \n",
       "4                              1                                           1   \n",
       "\n",
       "  calculated_host_listings_count_private_rooms  \\\n",
       "0                                            0   \n",
       "1                                            0   \n",
       "2                                            0   \n",
       "3                                            0   \n",
       "4                                            0   \n",
       "\n",
       "  calculated_host_listings_count_shared_rooms reviews_per_month  \n",
       "0                                           0              0.82  \n",
       "1                                           0              0.07  \n",
       "2                                           0              0.16  \n",
       "3                                           0              0.29  \n",
       "4                                           0              1.74  \n",
       "\n",
       "[5 rows x 75 columns]"
      ]
     },
     "metadata": {},
     "output_type": "display_data"
    }
   ],
   "source": [
    "data = pd.read_csv('listings.csv')\n",
    "display(data.shape)\n",
    "display(data.head())\n"
   ]
  },
  {
   "cell_type": "markdown",
   "metadata": {},
   "source": [
    "Estas columnas proporcionan una vista detallada de las características de los alojamientos, la información del anfitrión, las reseñas de los huéspedes y la disponibilidad del alojamiento en el tiempo."
   ]
  },
  {
   "cell_type": "code",
   "execution_count": 3,
   "metadata": {},
   "outputs": [
    {
     "data": {
      "text/plain": [
       "Index(['id', 'listing_url', 'scrape_id', 'last_scraped', 'source', 'name',\n",
       "       'description', 'neighborhood_overview', 'picture_url', 'host_id',\n",
       "       'host_url', 'host_name', 'host_since', 'host_location', 'host_about',\n",
       "       'host_response_time', 'host_response_rate', 'host_acceptance_rate',\n",
       "       'host_is_superhost', 'host_thumbnail_url', 'host_picture_url',\n",
       "       'host_neighbourhood', 'host_listings_count',\n",
       "       'host_total_listings_count', 'host_verifications',\n",
       "       'host_has_profile_pic', 'host_identity_verified', 'neighbourhood',\n",
       "       'neighbourhood_cleansed', 'neighbourhood_group_cleansed', 'latitude',\n",
       "       'longitude', 'property_type', 'room_type', 'accommodates', 'bathrooms',\n",
       "       'bathrooms_text', 'bedrooms', 'beds', 'amenities', 'price',\n",
       "       'minimum_nights', 'maximum_nights', 'minimum_minimum_nights',\n",
       "       'maximum_minimum_nights', 'minimum_maximum_nights',\n",
       "       'maximum_maximum_nights', 'minimum_nights_avg_ntm',\n",
       "       'maximum_nights_avg_ntm', 'calendar_updated', 'has_availability',\n",
       "       'availability_30', 'availability_60', 'availability_90',\n",
       "       'availability_365', 'calendar_last_scraped', 'number_of_reviews',\n",
       "       'number_of_reviews_ltm', 'number_of_reviews_l30d', 'first_review',\n",
       "       'last_review', 'review_scores_rating', 'review_scores_accuracy',\n",
       "       'review_scores_cleanliness', 'review_scores_checkin',\n",
       "       'review_scores_communication', 'review_scores_location',\n",
       "       'review_scores_value', 'license', 'instant_bookable',\n",
       "       'calculated_host_listings_count',\n",
       "       'calculated_host_listings_count_entire_homes',\n",
       "       'calculated_host_listings_count_private_rooms',\n",
       "       'calculated_host_listings_count_shared_rooms', 'reviews_per_month'],\n",
       "      dtype='object')"
      ]
     },
     "execution_count": 3,
     "metadata": {},
     "output_type": "execute_result"
    }
   ],
   "source": [
    "data.columns"
   ]
  },
  {
   "cell_type": "markdown",
   "metadata": {},
   "source": [
    "En el contexto de nuestros conjunto de datos contiene información detallada sobre los alojamientos de Airbnb en la ciudad de Berlín. Para nuestro estudio, nos centraremos en las siguientes columnas clave:\n",
    "\n",
    "- id: Identificador único del alojamiento.\n",
    "- eighbourhood: Vecindario donde se encuentra el alojamiento en Berlín.\n",
    "- room_type: Tipo de habitación ofrecida (completa, privada, compartida).\n",
    "- accommodates: Capacidad máxima de huéspedes permitidos en el alojamiento.\n",
    "- bathrooms: Número de baños disponibles en el alojamiento.\n",
    "- bedrooms: Número de dormitorios disponibles en el alojamiento.\n",
    "- beds: Número de camas disponibles en el alojamiento.\n",
    "- price: Precio por noche del alojamiento en euros.\n",
    "\n",
    "Estas columnas nos proporcionan información esencial para analizar y comparar diferentes alojamientos en los diversos vecindarios de Berlín, considerando su capacidad, comodidades y precio. Este enfoque nos permitirá entender mejor la oferta de alojamientos en la ciudad y su distribución en función de diferentes características clave."
   ]
  },
  {
   "cell_type": "code",
   "execution_count": 4,
   "metadata": {},
   "outputs": [],
   "source": [
    "data = data[['id','neighbourhood','room_type','accommodates','bathrooms','bedrooms','beds','price']]"
   ]
  },
  {
   "cell_type": "markdown",
   "metadata": {},
   "source": [
    "Nuestro nuevo conjunto de datos contiene información de 13,362 listados de alojamientos de Airbnb en Berlín. A continuación, se muestra una pequeña muestra de los datos disponibles:"
   ]
  },
  {
   "cell_type": "code",
   "execution_count": 5,
   "metadata": {},
   "outputs": [
    {
     "data": {
      "text/plain": [
       "Index(['id', 'neighbourhood', 'room_type', 'accommodates', 'bathrooms',\n",
       "       'bedrooms', 'beds', 'price'],\n",
       "      dtype='object')"
      ]
     },
     "metadata": {},
     "output_type": "display_data"
    },
    {
     "data": {
      "text/plain": [
       "(13362, 8)"
      ]
     },
     "metadata": {},
     "output_type": "display_data"
    },
    {
     "data": {
      "text/html": [
       "<div>\n",
       "<style scoped>\n",
       "    .dataframe tbody tr th:only-of-type {\n",
       "        vertical-align: middle;\n",
       "    }\n",
       "\n",
       "    .dataframe tbody tr th {\n",
       "        vertical-align: top;\n",
       "    }\n",
       "\n",
       "    .dataframe thead th {\n",
       "        text-align: right;\n",
       "    }\n",
       "</style>\n",
       "<table border=\"1\" class=\"dataframe\">\n",
       "  <thead>\n",
       "    <tr style=\"text-align: right;\">\n",
       "      <th></th>\n",
       "      <th>id</th>\n",
       "      <th>neighbourhood</th>\n",
       "      <th>room_type</th>\n",
       "      <th>accommodates</th>\n",
       "      <th>bathrooms</th>\n",
       "      <th>bedrooms</th>\n",
       "      <th>beds</th>\n",
       "      <th>price</th>\n",
       "    </tr>\n",
       "  </thead>\n",
       "  <tbody>\n",
       "    <tr>\n",
       "      <th>0</th>\n",
       "      <td>3176</td>\n",
       "      <td>Berlin, Germany</td>\n",
       "      <td>Entire home/apt</td>\n",
       "      <td>4</td>\n",
       "      <td>1.0</td>\n",
       "      <td>1.0</td>\n",
       "      <td>2.0</td>\n",
       "      <td>$83.00</td>\n",
       "    </tr>\n",
       "    <tr>\n",
       "      <th>1</th>\n",
       "      <td>9991</td>\n",
       "      <td>Berlin, Germany</td>\n",
       "      <td>Entire home/apt</td>\n",
       "      <td>7</td>\n",
       "      <td>2.5</td>\n",
       "      <td>4.0</td>\n",
       "      <td>7.0</td>\n",
       "      <td>$180.00</td>\n",
       "    </tr>\n",
       "    <tr>\n",
       "      <th>2</th>\n",
       "      <td>14325</td>\n",
       "      <td>NaN</td>\n",
       "      <td>Entire home/apt</td>\n",
       "      <td>1</td>\n",
       "      <td>1.0</td>\n",
       "      <td>0.0</td>\n",
       "      <td>1.0</td>\n",
       "      <td>$70.00</td>\n",
       "    </tr>\n",
       "    <tr>\n",
       "      <th>3</th>\n",
       "      <td>16644</td>\n",
       "      <td>Berlin, Germany</td>\n",
       "      <td>Entire home/apt</td>\n",
       "      <td>4</td>\n",
       "      <td>1.0</td>\n",
       "      <td>1.0</td>\n",
       "      <td>1.0</td>\n",
       "      <td>$90.00</td>\n",
       "    </tr>\n",
       "    <tr>\n",
       "      <th>4</th>\n",
       "      <td>17904</td>\n",
       "      <td>NaN</td>\n",
       "      <td>Entire home/apt</td>\n",
       "      <td>2</td>\n",
       "      <td>1.0</td>\n",
       "      <td>0.0</td>\n",
       "      <td>1.0</td>\n",
       "      <td>$25.00</td>\n",
       "    </tr>\n",
       "  </tbody>\n",
       "</table>\n",
       "</div>"
      ],
      "text/plain": [
       "      id    neighbourhood        room_type  accommodates  bathrooms  bedrooms  \\\n",
       "0   3176  Berlin, Germany  Entire home/apt             4        1.0       1.0   \n",
       "1   9991  Berlin, Germany  Entire home/apt             7        2.5       4.0   \n",
       "2  14325              NaN  Entire home/apt             1        1.0       0.0   \n",
       "3  16644  Berlin, Germany  Entire home/apt             4        1.0       1.0   \n",
       "4  17904              NaN  Entire home/apt             2        1.0       0.0   \n",
       "\n",
       "   beds    price  \n",
       "0   2.0   $83.00  \n",
       "1   7.0  $180.00  \n",
       "2   1.0   $70.00  \n",
       "3   1.0   $90.00  \n",
       "4   1.0   $25.00  "
      ]
     },
     "metadata": {},
     "output_type": "display_data"
    }
   ],
   "source": [
    "display(data.columns)\n",
    "display(data.shape)\n",
    "display(data.head())"
   ]
  },
  {
   "cell_type": "markdown",
   "metadata": {},
   "source": [
    "Estos datos nos permitirán realizar un análisis detallado sobre la distribución y características de los alojamientos en diferentes vecindarios de Berlín, considerando variables como el tipo de habitación, capacidad de alojamiento, número de baños y dormitorios, camas disponibles y precios por noche."
   ]
  },
  {
   "cell_type": "code",
   "execution_count": 6,
   "metadata": {},
   "outputs": [
    {
     "data": {
      "text/html": [
       "<div>\n",
       "<style scoped>\n",
       "    .dataframe tbody tr th:only-of-type {\n",
       "        vertical-align: middle;\n",
       "    }\n",
       "\n",
       "    .dataframe tbody tr th {\n",
       "        vertical-align: top;\n",
       "    }\n",
       "\n",
       "    .dataframe thead th {\n",
       "        text-align: right;\n",
       "    }\n",
       "</style>\n",
       "<table border=\"1\" class=\"dataframe\">\n",
       "  <thead>\n",
       "    <tr style=\"text-align: right;\">\n",
       "      <th></th>\n",
       "      <th>id</th>\n",
       "      <th>neighbourhood</th>\n",
       "      <th>room_type</th>\n",
       "      <th>accommodates</th>\n",
       "      <th>bathrooms</th>\n",
       "      <th>bedrooms</th>\n",
       "      <th>beds</th>\n",
       "      <th>price</th>\n",
       "    </tr>\n",
       "  </thead>\n",
       "  <tbody>\n",
       "    <tr>\n",
       "      <th>0</th>\n",
       "      <td>3176</td>\n",
       "      <td>Berlin, Germany</td>\n",
       "      <td>Entire home/apt</td>\n",
       "      <td>4</td>\n",
       "      <td>1.0</td>\n",
       "      <td>1.0</td>\n",
       "      <td>2.0</td>\n",
       "      <td>83.0</td>\n",
       "    </tr>\n",
       "    <tr>\n",
       "      <th>1</th>\n",
       "      <td>9991</td>\n",
       "      <td>Berlin, Germany</td>\n",
       "      <td>Entire home/apt</td>\n",
       "      <td>7</td>\n",
       "      <td>2.5</td>\n",
       "      <td>4.0</td>\n",
       "      <td>7.0</td>\n",
       "      <td>180.0</td>\n",
       "    </tr>\n",
       "    <tr>\n",
       "      <th>2</th>\n",
       "      <td>14325</td>\n",
       "      <td>NaN</td>\n",
       "      <td>Entire home/apt</td>\n",
       "      <td>1</td>\n",
       "      <td>1.0</td>\n",
       "      <td>0.0</td>\n",
       "      <td>1.0</td>\n",
       "      <td>70.0</td>\n",
       "    </tr>\n",
       "    <tr>\n",
       "      <th>3</th>\n",
       "      <td>16644</td>\n",
       "      <td>Berlin, Germany</td>\n",
       "      <td>Entire home/apt</td>\n",
       "      <td>4</td>\n",
       "      <td>1.0</td>\n",
       "      <td>1.0</td>\n",
       "      <td>1.0</td>\n",
       "      <td>90.0</td>\n",
       "    </tr>\n",
       "    <tr>\n",
       "      <th>4</th>\n",
       "      <td>17904</td>\n",
       "      <td>NaN</td>\n",
       "      <td>Entire home/apt</td>\n",
       "      <td>2</td>\n",
       "      <td>1.0</td>\n",
       "      <td>0.0</td>\n",
       "      <td>1.0</td>\n",
       "      <td>25.0</td>\n",
       "    </tr>\n",
       "  </tbody>\n",
       "</table>\n",
       "</div>"
      ],
      "text/plain": [
       "      id    neighbourhood        room_type  accommodates  bathrooms  bedrooms  \\\n",
       "0   3176  Berlin, Germany  Entire home/apt             4        1.0       1.0   \n",
       "1   9991  Berlin, Germany  Entire home/apt             7        2.5       4.0   \n",
       "2  14325              NaN  Entire home/apt             1        1.0       0.0   \n",
       "3  16644  Berlin, Germany  Entire home/apt             4        1.0       1.0   \n",
       "4  17904              NaN  Entire home/apt             2        1.0       0.0   \n",
       "\n",
       "   beds  price  \n",
       "0   2.0   83.0  \n",
       "1   7.0  180.0  \n",
       "2   1.0   70.0  \n",
       "3   1.0   90.0  \n",
       "4   1.0   25.0  "
      ]
     },
     "metadata": {},
     "output_type": "display_data"
    }
   ],
   "source": [
    "data['price'] = pd.to_numeric(data['price'].str.replace('$','').str.replace(',',''))\n",
    "display(data.head())"
   ]
  },
  {
   "cell_type": "markdown",
   "metadata": {},
   "source": [
    "En nuestro análisis de datos, realizamos una conversión de la columna \"price\" para transformar el tipo de dato de string (texto) a numérico. Esta conversión es necesaria para poder realizar cálculos matemáticos y estadísticos con los precios de los alojamientos.\n",
    "\n",
    "La columna \"price\" inicialmente contiene valores en formato de texto que incluyen caracteres como \"$\" y \",\" (por ejemplo, \"$100,00\"). Estos caracteres no son compatibles con las operaciones numéricas directas y deben eliminarse antes de convertir los valores a formato numérico.\n",
    "\n",
    "El proceso de conversión implica los siguientes pasos:\n",
    "\n",
    "Eliminación de caracteres: Borramos los caracteres especiales como \"$\" y \",\" de cada valor en la columna \"price\".\n",
    "\n",
    "Conversión a numérico: Convertimos los valores limpios a un formato numérico (por ejemplo, 100.00).\n",
    "\n",
    "Este procedimiento nos permite calcular estadísticas como promedios, medianas, y realizar visualizaciones y análisis más avanzados sobre los precios de los alojamientos en Berlín. La transformación de datos asegura que nuestras conclusiones sean precisas y estén basadas en datos numéricos adecuados para su interpretación estadística."
   ]
  },
  {
   "cell_type": "code",
   "execution_count": 7,
   "metadata": {},
   "outputs": [
    {
     "data": {
      "text/plain": [
       "room_type\n",
       "Entire home/apt    0.661278\n",
       "Private room       0.318066\n",
       "Shared room        0.011450\n",
       "Hotel room         0.009205\n",
       "Name: proportion, dtype: float64"
      ]
     },
     "execution_count": 7,
     "metadata": {},
     "output_type": "execute_result"
    }
   ],
   "source": [
    "data[\"room_type\"].value_counts(normalize=True)"
   ]
  },
  {
   "cell_type": "markdown",
   "metadata": {},
   "source": [
    "Supongamos que las autoridades municipales desean obtener información sobre los alquileres de Airbnb para ayudar en la planificación de normativas urbanas. Específicamente, desean conocer cuántos lugares de Airbnb se listan como apartamentos o casas completas (en lugar de habitaciones privadas o compartidas). Por lo tanto, les interesa estimar la verdadera proporción de todos los listados de Airbnb donde el tipo de habitación se indica como \"apartamento completo o casa\".\n",
    "\n",
    "Aunque generalmente no tenemos acceso a toda la población de datos, podemos imaginar (para fines de aprendizaje) que nuestro conjunto de datos representa la población completa de todos los listados de alquileres de Airbnb en Berlín, Alemania. Para encontrar la proporción de listados para cada tipo de habitación, podemos utilizar la función value_counts con el parámetro normalize.\n",
    "\n",
    "Las proporciones de cada tipo de habitación basadas en el conjunto de datos:\n",
    "\n",
    "- Entire home/apt (Apartamento completo o casa): Esta categoría representa aproximadamente el 66.13% de todos los listados. Esto significa que más de dos tercios de los alojamientos disponibles en Airbnb en Berlín son apartamentos completos o casas que los huéspedes pueden alquilar por completo.\n",
    "\n",
    "- Private room (Habitación privada): Cerca del 31.81% de los listados corresponden a habitaciones privadas. Estos son espacios dentro de una vivienda donde los huéspedes pueden tener su propia habitación privada, pero comparten otras áreas como cocina y baño con el anfitrión o con otros huéspedes.\n",
    "\n",
    "- Shared room (Habitación compartida): Solo el 1.15% de los listados son habitaciones compartidas. En este caso, los huéspedes comparten el espacio de la habitación con otros huéspedes que pueden ser desconocidos para ellos.\n",
    "\n",
    "- Hotel room (Habitación de hotel): Este tipo de alojamiento representa aproximadamente el 0.92% de los listados. Son habitaciones dentro de hoteles que se ofrecen en plataformas como Airbnb.\n",
    "\n",
    "Estas proporciones proporcionan una visión clara de la diversidad de opciones de alojamiento disponibles en Airbnb en Berlín, destacando la predominancia de apartamentos completos o casas en comparación con habitaciones privadas, habitaciones compartidas y habitaciones de hotel.\n",
    "\n",
    "<h2>Exploración mediante Muestra Aleatoria:</h2>\n",
    "\n",
    "En lugar de utilizar toda la población de datos, podemos aproximarla utilizando un pequeño subconjunto de datos. Para investigar esta idea, intentemos seleccionar aleatoriamente 40 listados (es decir, tomar una muestra aleatoria de tamaño 40 de nuestra población) y calcular la proporción para esa muestra. Utilizaremos el método `sample` del objeto DataFrame para tomar la muestra. El argumento n de sample es el tamaño de la muestra que queremos tomar y, dado que estamos introduciendo aleatoriedad, también estableceremos la semilla aleatoria a través de numpy para hacer los resultados reproducibles."
   ]
  },
  {
   "cell_type": "code",
   "execution_count": 8,
   "metadata": {},
   "outputs": [
    {
     "data": {
      "text/plain": [
       "room_type\n",
       "Entire home/apt    0.675\n",
       "Private room       0.300\n",
       "Hotel room         0.025\n",
       "Name: proportion, dtype: float64"
      ]
     },
     "metadata": {},
     "output_type": "display_data"
    }
   ],
   "source": [
    "sample = data.sample(n=40)\n",
    "display(sample[\"room_type\"].value_counts(normalize=True))"
   ]
  },
  {
   "cell_type": "markdown",
   "metadata": {},
   "source": [
    "\n",
    "Para esta muestra aleatoria de 40 listados de Airbnb en Berlín, tenemos las siguientes proporciones según el tipo de habitación:\n",
    "\n",
    "- Entire home/apt (Apartamento completo o casa): Representa el 57.5% de los listados en la muestra. Esto indica que más de la mitad de los alojamientos seleccionados aleatoriamente son apartamentos completos o casas.\n",
    "\n",
    "- Private room (Habitación privada): Corresponde al 37.5% de los listados en la muestra. Estos son espacios dentro de una vivienda donde los huéspedes tienen su propia habitación privada, pero pueden compartir otras áreas con el anfitrión o con otros huéspedes.\n",
    "\n",
    "- Hotel room (Habitación de hotel): Representa el 5.0% de los listados en la muestra. Estas son habitaciones dentro de hoteles que se ofrecen en la plataforma de Airbnb.\n",
    "\n",
    "Estas proporciones nos ofrecen una visión específica de cómo se distribuyen los diferentes tipos de alojamiento en la muestra aleatoria seleccionada. Es importante tener en cuenta que estas cifras pueden variar si se toma otra muestra aleatoria de la misma población, pero proporcionan una instantánea útil para el análisis inicial.\n",
    "\n",
    "Ahora, vamos a simular muchas muestras de tamaño 40 de nuestra población de listados y calcular la proporción de listados de apartamentos completos/casas en cada muestra. Esta simulación generará muchas proporciones de muestra, que podemos visualizar utilizando un histograma. La distribución de la estimación para todas las posibles muestras de un tamaño dado (a la que comúnmente nos referimos como distribución muestral) de una población se llama distribución muestral. La distribución muestral nos ayudará a ver cuánto esperaríamos que varíen nuestras proporciones de muestra de esta población para muestras de tamaño 40.\n",
    "\n",
    "Nuevamente utilizamos el método sample para tomar muestras de tamaño 40 de nuestra población de listados de Airbnb. Pero esta vez utilizamos una comprensión de lista para repetir la operación múltiples veces. En este caso, repetimos la operación 10,000 veces para obtener 10,000 muestras de tamaño 40. Para identificar claramente qué filas en el marco de datos corresponden a cada una de las 10,000 muestras, también agregamos una columna llamada replicate. La llamada a concat concatena todos los 10,000 marcos de datos devueltos por la comprensión de lista en un solo marco de datos grande."
   ]
  },
  {
   "cell_type": "code",
   "execution_count": 9,
   "metadata": {},
   "outputs": [
    {
     "data": {
      "text/plain": [
       "(400000, 9)"
      ]
     },
     "metadata": {},
     "output_type": "display_data"
    },
    {
     "data": {
      "text/html": [
       "<div>\n",
       "<style scoped>\n",
       "    .dataframe tbody tr th:only-of-type {\n",
       "        vertical-align: middle;\n",
       "    }\n",
       "\n",
       "    .dataframe tbody tr th {\n",
       "        vertical-align: top;\n",
       "    }\n",
       "\n",
       "    .dataframe thead th {\n",
       "        text-align: right;\n",
       "    }\n",
       "</style>\n",
       "<table border=\"1\" class=\"dataframe\">\n",
       "  <thead>\n",
       "    <tr style=\"text-align: right;\">\n",
       "      <th></th>\n",
       "      <th>id</th>\n",
       "      <th>neighbourhood</th>\n",
       "      <th>room_type</th>\n",
       "      <th>accommodates</th>\n",
       "      <th>bathrooms</th>\n",
       "      <th>bedrooms</th>\n",
       "      <th>beds</th>\n",
       "      <th>price</th>\n",
       "      <th>replicate</th>\n",
       "    </tr>\n",
       "  </thead>\n",
       "  <tbody>\n",
       "    <tr>\n",
       "      <th>10852</th>\n",
       "      <td>883105056436404453</td>\n",
       "      <td>NaN</td>\n",
       "      <td>Entire home/apt</td>\n",
       "      <td>4</td>\n",
       "      <td>1.0</td>\n",
       "      <td>2.0</td>\n",
       "      <td>2.0</td>\n",
       "      <td>156.0</td>\n",
       "      <td>0</td>\n",
       "    </tr>\n",
       "    <tr>\n",
       "      <th>467</th>\n",
       "      <td>1565047</td>\n",
       "      <td>Berlin, Germany</td>\n",
       "      <td>Shared room</td>\n",
       "      <td>8</td>\n",
       "      <td>1.0</td>\n",
       "      <td>1.0</td>\n",
       "      <td>8.0</td>\n",
       "      <td>26.0</td>\n",
       "      <td>0</td>\n",
       "    </tr>\n",
       "    <tr>\n",
       "      <th>9297</th>\n",
       "      <td>667276148808012107</td>\n",
       "      <td>NaN</td>\n",
       "      <td>Entire home/apt</td>\n",
       "      <td>3</td>\n",
       "      <td>1.5</td>\n",
       "      <td>1.0</td>\n",
       "      <td>2.0</td>\n",
       "      <td>175.0</td>\n",
       "      <td>0</td>\n",
       "    </tr>\n",
       "    <tr>\n",
       "      <th>1049</th>\n",
       "      <td>4823591</td>\n",
       "      <td>Berlin, Germany</td>\n",
       "      <td>Entire home/apt</td>\n",
       "      <td>6</td>\n",
       "      <td>NaN</td>\n",
       "      <td>1.0</td>\n",
       "      <td>NaN</td>\n",
       "      <td>NaN</td>\n",
       "      <td>0</td>\n",
       "    </tr>\n",
       "    <tr>\n",
       "      <th>11450</th>\n",
       "      <td>946985570575147361</td>\n",
       "      <td>NaN</td>\n",
       "      <td>Entire home/apt</td>\n",
       "      <td>4</td>\n",
       "      <td>1.0</td>\n",
       "      <td>2.0</td>\n",
       "      <td>3.0</td>\n",
       "      <td>90.0</td>\n",
       "      <td>0</td>\n",
       "    </tr>\n",
       "  </tbody>\n",
       "</table>\n",
       "</div>"
      ],
      "text/plain": [
       "                       id    neighbourhood        room_type  accommodates  \\\n",
       "10852  883105056436404453              NaN  Entire home/apt             4   \n",
       "467               1565047  Berlin, Germany      Shared room             8   \n",
       "9297   667276148808012107              NaN  Entire home/apt             3   \n",
       "1049              4823591  Berlin, Germany  Entire home/apt             6   \n",
       "11450  946985570575147361              NaN  Entire home/apt             4   \n",
       "\n",
       "       bathrooms  bedrooms  beds  price  replicate  \n",
       "10852        1.0       2.0   2.0  156.0          0  \n",
       "467          1.0       1.0   8.0   26.0          0  \n",
       "9297         1.5       1.0   2.0  175.0          0  \n",
       "1049         NaN       1.0   NaN    NaN          0  \n",
       "11450        1.0       2.0   3.0   90.0          0  "
      ]
     },
     "metadata": {},
     "output_type": "display_data"
    }
   ],
   "source": [
    "samples = pd.concat([\n",
    "    data.sample(40).assign(replicate=n)\n",
    "    for n in range(10000)\n",
    "])\n",
    "display(samples.shape)\n",
    "display(samples.head())"
   ]
  },
  {
   "cell_type": "markdown",
   "metadata": {},
   "source": [
    "\n",
    "En nuestro nuevo conjunto de datos generado mediante la simulación de 20,000 muestras de tamaño 40 de la población de listados de Airbnb en Berlín, podemos observar lo siguiente:\n",
    "\n",
    "- Muestras de tamaño 40: Cada fila en nuestro conjunto de datos representa una muestra individual de tamaño 40 de los listados de Airbnb en Berlín.\n",
    "\n",
    "- Proporciones calculadas: Para cada muestra, calculamos la proporción de listados que son apartamentos completos/casas (entire home/apt). Estas proporciones nos dan una idea de cómo varía esta característica en diferentes muestras de tamaño 40.\n",
    "\n",
    "- Columna \"replicate\": Hemos añadido una columna llamada \"replicate\" que indica a qué muestra específica pertenece cada fila. Esto nos permite identificar y diferenciar claramente cada una de las 10,000 muestras generadas.\n",
    "\n",
    "- Distribución muestral: Al tener 20,000 muestras y sus respectivas proporciones de apartamentos completos/casas, podemos construir una distribución muestral. Esta distribución muestral nos muestra cómo se distribuyen estas proporciones muestrales y nos da una idea de la variabilidad que podríamos esperar al estimar la proporción real de apartamentos completos/casas en la población completa de listados de Airbnb en Berlín.\n",
    "\n",
    "Visualizar y analizar este nuevo conjunto de datos nos permitirá comprender mejor la variabilidad de nuestras estimaciones y realizar inferencias sobre la proporción de apartamentos completos/casas en la población general de listados de Airbnb en la ciudad."
   ]
  },
  {
   "cell_type": "code",
   "execution_count": 10,
   "metadata": {},
   "outputs": [
    {
     "data": {
      "text/plain": [
       "Index(['replicate', 'room_type', 'sample_proportion'], dtype='object')"
      ]
     },
     "metadata": {},
     "output_type": "display_data"
    },
    {
     "data": {
      "text/plain": [
       "(26738, 3)"
      ]
     },
     "metadata": {},
     "output_type": "display_data"
    },
    {
     "data": {
      "text/html": [
       "<div>\n",
       "<style scoped>\n",
       "    .dataframe tbody tr th:only-of-type {\n",
       "        vertical-align: middle;\n",
       "    }\n",
       "\n",
       "    .dataframe tbody tr th {\n",
       "        vertical-align: top;\n",
       "    }\n",
       "\n",
       "    .dataframe thead th {\n",
       "        text-align: right;\n",
       "    }\n",
       "</style>\n",
       "<table border=\"1\" class=\"dataframe\">\n",
       "  <thead>\n",
       "    <tr style=\"text-align: right;\">\n",
       "      <th></th>\n",
       "      <th>replicate</th>\n",
       "      <th>room_type</th>\n",
       "      <th>sample_proportion</th>\n",
       "    </tr>\n",
       "  </thead>\n",
       "  <tbody>\n",
       "    <tr>\n",
       "      <th>0</th>\n",
       "      <td>0</td>\n",
       "      <td>Entire home/apt</td>\n",
       "      <td>0.675</td>\n",
       "    </tr>\n",
       "    <tr>\n",
       "      <th>1</th>\n",
       "      <td>0</td>\n",
       "      <td>Private room</td>\n",
       "      <td>0.275</td>\n",
       "    </tr>\n",
       "    <tr>\n",
       "      <th>2</th>\n",
       "      <td>0</td>\n",
       "      <td>Shared room</td>\n",
       "      <td>0.050</td>\n",
       "    </tr>\n",
       "    <tr>\n",
       "      <th>3</th>\n",
       "      <td>1</td>\n",
       "      <td>Entire home/apt</td>\n",
       "      <td>0.575</td>\n",
       "    </tr>\n",
       "    <tr>\n",
       "      <th>4</th>\n",
       "      <td>1</td>\n",
       "      <td>Private room</td>\n",
       "      <td>0.375</td>\n",
       "    </tr>\n",
       "  </tbody>\n",
       "</table>\n",
       "</div>"
      ],
      "text/plain": [
       "   replicate        room_type  sample_proportion\n",
       "0          0  Entire home/apt              0.675\n",
       "1          0     Private room              0.275\n",
       "2          0      Shared room              0.050\n",
       "3          1  Entire home/apt              0.575\n",
       "4          1     Private room              0.375"
      ]
     },
     "metadata": {},
     "output_type": "display_data"
    },
    {
     "data": {
      "text/html": [
       "<div>\n",
       "<style scoped>\n",
       "    .dataframe tbody tr th:only-of-type {\n",
       "        vertical-align: middle;\n",
       "    }\n",
       "\n",
       "    .dataframe tbody tr th {\n",
       "        vertical-align: top;\n",
       "    }\n",
       "\n",
       "    .dataframe thead th {\n",
       "        text-align: right;\n",
       "    }\n",
       "</style>\n",
       "<table border=\"1\" class=\"dataframe\">\n",
       "  <thead>\n",
       "    <tr style=\"text-align: right;\">\n",
       "      <th></th>\n",
       "      <th>replicate</th>\n",
       "      <th>room_type</th>\n",
       "      <th>sample_proportion</th>\n",
       "    </tr>\n",
       "  </thead>\n",
       "  <tbody>\n",
       "    <tr>\n",
       "      <th>26733</th>\n",
       "      <td>9998</td>\n",
       "      <td>Entire home/apt</td>\n",
       "      <td>0.575</td>\n",
       "    </tr>\n",
       "    <tr>\n",
       "      <th>26734</th>\n",
       "      <td>9998</td>\n",
       "      <td>Private room</td>\n",
       "      <td>0.425</td>\n",
       "    </tr>\n",
       "    <tr>\n",
       "      <th>26735</th>\n",
       "      <td>9999</td>\n",
       "      <td>Entire home/apt</td>\n",
       "      <td>0.700</td>\n",
       "    </tr>\n",
       "    <tr>\n",
       "      <th>26736</th>\n",
       "      <td>9999</td>\n",
       "      <td>Private room</td>\n",
       "      <td>0.275</td>\n",
       "    </tr>\n",
       "    <tr>\n",
       "      <th>26737</th>\n",
       "      <td>9999</td>\n",
       "      <td>Shared room</td>\n",
       "      <td>0.025</td>\n",
       "    </tr>\n",
       "  </tbody>\n",
       "</table>\n",
       "</div>"
      ],
      "text/plain": [
       "       replicate        room_type  sample_proportion\n",
       "26733       9998  Entire home/apt              0.575\n",
       "26734       9998     Private room              0.425\n",
       "26735       9999  Entire home/apt              0.700\n",
       "26736       9999     Private room              0.275\n",
       "26737       9999      Shared room              0.025"
      ]
     },
     "metadata": {},
     "output_type": "display_data"
    }
   ],
   "source": [
    "estimates = samples.groupby(\"replicate\")[\"room_type\"].value_counts(normalize=True).reset_index(name=\"sample_proportion\")\n",
    "display(estimates.columns)\n",
    "display(estimates.shape)\n",
    "display(estimates.head())\n",
    "display(estimates.tail())"
   ]
  },
  {
   "cell_type": "markdown",
   "metadata": {},
   "source": [
    "Ahora que hemos obtenido las muestras de datos, necesitamos calcular la proporción de listados de apartamentos completos/casas en cada muestra. Para hacer esto, primero agrupamos los datos por la variable \"replicate\" para agrupar el conjunto de listados en cada muestra, y luego utilizamos value_counts con normalize=True para calcular la proporción en cada muestra.\n",
    "\n",
    "Este proceso implica lo siguiente:\n",
    "\n",
    "- Agrupación por \"replicate\": Utilizamos la función de agrupación para reunir todos los listados que pertenecen a cada muestra individual identificada por la columna \"replicate\".\n",
    "\n",
    "- Cálculo de proporciones: Aplicamos value_counts con el parámetro normalize=True sobre los datos agrupados. Esto cuenta cuántos listados son de tipo \"entire home/apt\" en cada muestra y calcula automáticamente la proporción de estos listados con respecto al total de listados en cada muestra.\n",
    "\n",
    "- Resultado: Obtendremos un conjunto de datos que muestra la proporción de listados de apartamentos completos/casas en cada una de las 20,000 muestras. Esta información es crucial para entender cómo varía esta proporción en diferentes muestras y para construir la distribución muestral correspondiente.\n",
    "\n",
    "Este enfoque nos permite explorar la variabilidad de las proporciones muestrales y nos prepara para realizar inferencias sobre la proporción real de apartamentos completos/casas en la población completa de listados de Airbnb en Berlín."
   ]
  },
  {
   "cell_type": "code",
   "execution_count": 11,
   "metadata": {},
   "outputs": [],
   "source": [
    "entire_home = estimates[estimates[\"room_type\"] == \"Entire home/apt\"]"
   ]
  },
  {
   "cell_type": "markdown",
   "metadata": {},
   "source": [
    "Para filtrar el conjunto de datos y mantener únicamente los tipos de habitación que nos interesan, realizamos una operación de selección que excluye todos los tipos de habitación excepto \"Entire home/apt\" (Apartamento completo o casa). Este proceso nos permite enfocarnos exclusivamente en los alojamientos de Airbnb en Berlín que son apartamentos completos o casas, descartando otras categorías como habitaciones privadas, compartidas o habitaciones de hotel."
   ]
  },
  {
   "cell_type": "code",
   "execution_count": 12,
   "metadata": {},
   "outputs": [
    {
     "data": {
      "image/png": "[encoded data removed]",
      "text/plain": [
       "<Figure size 600x400 with 1 Axes>"
      ]
     },
     "metadata": {},
     "output_type": "display_data"
    }
   ],
   "source": [
    "col='teal'\n",
    "sns.set_theme(style='whitegrid', rc={'figure.figsize':(6, 4)})  \n",
    "sns.histplot(x = 'sample_proportion', data=entire_home, bins=40, kde=True, color=col) \n",
    "plt.axvline(x= np.mean(entire_home['sample_proportion']), color=col, linestyle='--')\n",
    "\n",
    "plt.title('Distribución muestral de la proporción muestral para el tamaño de muestra 40', fontsize=18)\n",
    "plt.xlabel('Proporciones de muestra', fontsize=12)\n",
    "plt.ylabel('Observados', fontsize=12)\n",
    "plt.show()"
   ]
  },
  {
   "cell_type": "markdown",
   "metadata": {},
   "source": [
    "Ahora podemos visualizar la distribución muestral de las proporciones de muestra para muestras de tamaño 40 utilizando un histograma. Es importante tener en cuenta que, en el mundo real, no tenemos acceso a toda la población. Por lo tanto, no podemos tomar muchas muestras ni construir o visualizar realmente la distribución muestral. Hemos creado este ejemplo en particular de manera que sí tenemos acceso a la población completa, lo que nos permite visualizar directamente la distribución muestral con fines educativos.\n",
    "\n",
    "La distribución muestral parece tener forma de campana, es aproximadamente simétrica y tiene un solo pico. Está centrada alrededor de 0.65 y las proporciones de muestra van desde aproximadamente 0.5 hasta alrededor de 0.8. De hecho, podemos calcular la media de las proporciones de muestra."
   ]
  },
  {
   "cell_type": "code",
   "execution_count": 13,
   "metadata": {},
   "outputs": [
    {
     "data": {
      "text/plain": [
       "count    10000.000000\n",
       "mean         0.661878\n",
       "std          0.074141\n",
       "min          0.400000\n",
       "25%          0.600000\n",
       "50%          0.675000\n",
       "75%          0.700000\n",
       "max          0.900000\n",
       "Name: sample_proportion, dtype: float64"
      ]
     },
     "execution_count": 13,
     "metadata": {},
     "output_type": "execute_result"
    }
   ],
   "source": [
    "entire_home['sample_proportion'].describe()"
   ]
  },
  {
   "cell_type": "markdown",
   "metadata": {},
   "source": [
    "Estos estadísticos proporcionan una visión completa de la distribución de las proporciones de muestra y nos ayudan a comprender la variabilidad y la tendencia central de nuestros datos muestrales en relación con los listados de Airbnb en Berlín.\n",
    "\n",
    "- count: Indica el número total de observaciones en nuestra muestra, que en este caso es 10,000.\n",
    "\n",
    "- mean: Es la media de todas las proporciones de muestra calculadas, que es aproximadamente 0.661. Esto sugiere que, en promedio, alrededor del 66.1% de las muestras seleccionadas aleatoriamente tienen listados de tipo \"Entire home/apt\" (apartamento completo o casa).\n",
    "\n",
    "- std: Representa la desviación estándar de las proporciones de muestra, que es aproximadamente 0.074. Esta medida de dispersión indica cuánto varían las proporciones de muestra alrededor de la media. En este caso, las proporciones de muestra tienden a estar dispersas alrededor de la media en aproximadamente 0.074 unidades.\n",
    "\n",
    "- min: Es el valor mínimo de las proporciones de muestra observadas, que es 0.35. Esto indica que la proporción más baja de apartamentos completos/casas en nuestras muestras fue del 35%.\n",
    "\n",
    "- El 25% (primer cuartil) de las proporciones de muestra es igual o menor a 0.6.\n",
    "\n",
    "- El 50% (mediana) de las proporciones de muestra es igual a 0.65, lo que significa que el 50% de las muestras tienen una proporción de apartamentos completos/casas de 0.65 o menos.\n",
    "\n",
    "- El 75% (tercer cuartil) de las proporciones de muestra es igual o menor a 0.7.\n",
    "\n",
    "- max: Es el valor máximo de las proporciones de muestra observadas, que es 0.9. Indica que la proporción más alta de apartamentos completos/casas en nuestras muestras fue del 90%.\n",
    "\n",
    "<h2>La Importancia de la Distribución Muestral para Medias en Estadística Inferencial</h2>\n",
    "\n",
    "La distribución muestral para medias es fundamental en estadística inferencial, permitiéndonos comprender el comportamiento de las medias de múltiples muestras aleatorias de una población. Al tomar muestras repetidas de una población y calcular la media de cada muestra, observamos que estas medias muestrales también tienen una distribución propia. Esta distribución suele seguir una forma normal o gaussiana, especialmente cuando el tamaño de la muestra es grande, según el Teorema del Límite Central. La media de la distribución muestral para medias es equivalente a la media de la población, mientras que su desviación estándar, conocida como error estándar de la media, se calcula dividiendo la desviación estándar de la población por la raíz cuadrada del tamaño de la muestra. A medida que aumenta el tamaño de la muestra, la distribución muestral para medias se estrecha y se aproxima más a una distribución normal.\n",
    "\n",
    "En contraste, en la sección anterior nuestra variable de interés, room_type, era categórica y el parámetro de la población era una proporción. Como se menciona en la introducción del capítulo, existen múltiples opciones de parámetros de población para cada tipo de variable. Si queremos inferir algo sobre una población de variables cuantitativas, como el precio por noche de los listados de Airbnb en Berlín, podríamos estimar la media poblacional para ayudar a los viajeros a determinar si un alojamiento específico tiene un precio elevado. La distribución de la población del precio por noche puede ser visualizada mediante un histograma, proporcionando una representación gráfica de la variabilidad y distribución de los precios en la población estudiada."
   ]
  },
  {
   "cell_type": "code",
   "execution_count": 14,
   "metadata": {},
   "outputs": [
    {
     "data": {
      "image/png": "[encoded data removed]",
      "text/plain": [
       "<Figure size 600x400 with 1 Axes>"
      ]
     },
     "metadata": {},
     "output_type": "display_data"
    }
   ],
   "source": [
    "sns.histplot(x = 'price', data=data, bins=100, kde=True, color=col)\n",
    "plt.axvline(x= np.mean(data['price']), color=col, linestyle='--')\n",
    "\n",
    "plt.title('Distribución poblacional del precio por noche (dólares) para todos los listados de Airbnb en Berlin, Alemania', fontsize=18)\n",
    "plt.xlabel('Precio por noche (Euros)', fontsize=12)\n",
    "plt.ylabel('Observados', fontsize=12)\n",
    "plt.show()"
   ]
  },
  {
   "cell_type": "markdown",
   "metadata": {},
   "source": [
    "Al explorar la distribución de la población de precios por noche de los listados de Airbnb en Berlín, observamos que presenta un solo pico, lo que indica que hay un valor predominante alrededor del cual se concentran la mayoría de los precios. Sin embargo, esta distribución también exhibe sesgo, lo que significa que no es simétrica. En este caso particular, la mayor parte de los alojamientos tienen un precio por noche inferior a 128 dólares, pero hay algunos listados que tienen precios considerablemente más altos, lo que se refleja en una cola larga en el lado derecho del histograma.\n",
    "\n",
    "Este patrón de distribución sugiere que mientras la mayoría de los alojamientos son relativamente asequibles, existen algunos que son significativamente más caros. Este fenómeno es importante de entender para los viajeros que desean hacer una estimación realista del costo de hospedaje en la ciudad. Además de la visualización gráfica de la distribución, es posible calcular la media poblacional, es decir, el promedio del precio por noche para todos los listados de Airbnb en Berlín. Este valor promedio proporciona una medida central que ayuda a entender el costo típico de alojamiento en la ciudad, facilitando a los viajeros la evaluación de si un determinado listado está por encima o por debajo de la media general de precios."
   ]
  },
  {
   "cell_type": "code",
   "execution_count": 15,
   "metadata": {},
   "outputs": [
    {
     "data": {
      "text/plain": [
       "count    8400.000000\n",
       "mean      128.425714\n",
       "std       124.398528\n",
       "min         9.000000\n",
       "25%        67.000000\n",
       "50%        99.000000\n",
       "75%       150.000000\n",
       "max      3429.000000\n",
       "Name: price, dtype: float64"
      ]
     },
     "execution_count": 15,
     "metadata": {},
     "output_type": "execute_result"
    }
   ],
   "source": [
    "data['price'].describe()"
   ]
  },
  {
   "cell_type": "markdown",
   "metadata": {},
   "source": [
    "El precio promedio por noche de todos los alquileres de Airbnb en Berlín es de 128,42 dólares, lo cual representa nuestro parámetro de población al calcularlo utilizando los datos de toda la población disponible.\n",
    "\n",
    "Ahora, supongamos que no tenemos acceso a los datos de toda la población (¡lo cual suele ser el caso!). Sin embargo, nos interesa estimar el promedio del precio por noche. Podríamos abordar esta pregunta tomando una muestra aleatoria de tantos listados de Airbnb como nos permitan nuestros recursos y tiempo. Supongamos que podemos hacer esto con 40 listados. ¿Cómo se vería una muestra de este tipo? Para explorar esta cuestión, podemos aprovechar nuestro acceso actual a los datos de la población y simular el proceso de tomar una muestra aleatoria de 40 listados utilizando Python, nuevamente utilizando la función sample."
   ]
  },
  {
   "cell_type": "code",
   "execution_count": 16,
   "metadata": {},
   "outputs": [
    {
     "data": {
      "image/png": "[encoded data removed]",
      "text/plain": [
       "<Figure size 600x400 with 1 Axes>"
      ]
     },
     "metadata": {},
     "output_type": "display_data"
    }
   ],
   "source": [
    "sample = data.sample(n=40)\n",
    "\n",
    "sns.histplot(x = 'price', data=sample, bins=100, kde=True, color=col)\n",
    "plt.axvline(x= np.mean(sample['price']), color=col, linestyle='--')\n",
    "\n",
    "plt.title('Precio medio por noche (dólares) de una muestra', fontsize=18)\n",
    "plt.xlabel('Precio por noche (Euros)', fontsize=12)\n",
    "plt.ylabel('Observados', fontsize=12)\n",
    "plt.show()"
   ]
  },
  {
   "cell_type": "markdown",
   "metadata": {},
   "source": [
    "En este escenario específico, al tomar una muestra aleatoria de 40 listados de Airbnb en Berlín, notamos que la distribución de los precios por noche en la muestra presenta diferencias significativas en comparación con la distribución de precios en toda la población de listados. Mientras que la población completa tiene un precio promedio de 128.42 dólares por noche, nuestra muestra de 40 listados muestra un precio promedio de 104.04 dólares por noche.\n",
    "\n",
    "Esta disparidad entre la muestra y la población puede atribuirse a la variabilidad inherente que se espera al tomar muestras aleatorias. Las muestras más pequeñas pueden no capturar completamente la amplia gama de precios que existe en toda la población de listados de Airbnb en Berlín. Es importante reconocer estas diferencias al interpretar los resultados de la muestra y al realizar inferencias sobre la población en general.\n",
    "\n",
    "Estos hallazgos destacan la importancia de entender cómo se comportan las muestras en relación con la población subyacente, especialmente cuando se utilizan para hacer estimaciones sobre parámetros poblacionales como el precio promedio por noche."
   ]
  },
  {
   "cell_type": "code",
   "execution_count": 17,
   "metadata": {},
   "outputs": [
    {
     "data": {
      "text/html": [
       "<div>\n",
       "<style scoped>\n",
       "    .dataframe tbody tr th:only-of-type {\n",
       "        vertical-align: middle;\n",
       "    }\n",
       "\n",
       "    .dataframe tbody tr th {\n",
       "        vertical-align: top;\n",
       "    }\n",
       "\n",
       "    .dataframe thead th {\n",
       "        text-align: right;\n",
       "    }\n",
       "</style>\n",
       "<table border=\"1\" class=\"dataframe\">\n",
       "  <thead>\n",
       "    <tr style=\"text-align: right;\">\n",
       "      <th></th>\n",
       "      <th>id</th>\n",
       "      <th>accommodates</th>\n",
       "      <th>bathrooms</th>\n",
       "      <th>bedrooms</th>\n",
       "      <th>beds</th>\n",
       "      <th>price</th>\n",
       "    </tr>\n",
       "  </thead>\n",
       "  <tbody>\n",
       "    <tr>\n",
       "      <th>count</th>\n",
       "      <td>4.000000e+01</td>\n",
       "      <td>40.000000</td>\n",
       "      <td>25.000000</td>\n",
       "      <td>36.000000</td>\n",
       "      <td>25.00000</td>\n",
       "      <td>25.000000</td>\n",
       "    </tr>\n",
       "    <tr>\n",
       "      <th>mean</th>\n",
       "      <td>3.573757e+17</td>\n",
       "      <td>2.875000</td>\n",
       "      <td>1.160000</td>\n",
       "      <td>1.361111</td>\n",
       "      <td>1.68000</td>\n",
       "      <td>108.640000</td>\n",
       "    </tr>\n",
       "    <tr>\n",
       "      <th>std</th>\n",
       "      <td>4.542875e+17</td>\n",
       "      <td>1.712511</td>\n",
       "      <td>0.374166</td>\n",
       "      <td>0.798312</td>\n",
       "      <td>1.40594</td>\n",
       "      <td>62.980076</td>\n",
       "    </tr>\n",
       "    <tr>\n",
       "      <th>min</th>\n",
       "      <td>1.314489e+06</td>\n",
       "      <td>1.000000</td>\n",
       "      <td>1.000000</td>\n",
       "      <td>0.000000</td>\n",
       "      <td>1.00000</td>\n",
       "      <td>48.000000</td>\n",
       "    </tr>\n",
       "    <tr>\n",
       "      <th>25%</th>\n",
       "      <td>1.928660e+07</td>\n",
       "      <td>2.000000</td>\n",
       "      <td>1.000000</td>\n",
       "      <td>1.000000</td>\n",
       "      <td>1.00000</td>\n",
       "      <td>66.000000</td>\n",
       "    </tr>\n",
       "    <tr>\n",
       "      <th>50%</th>\n",
       "      <td>4.097990e+07</td>\n",
       "      <td>2.000000</td>\n",
       "      <td>1.000000</td>\n",
       "      <td>1.000000</td>\n",
       "      <td>1.00000</td>\n",
       "      <td>80.000000</td>\n",
       "    </tr>\n",
       "    <tr>\n",
       "      <th>75%</th>\n",
       "      <td>8.412844e+17</td>\n",
       "      <td>4.000000</td>\n",
       "      <td>1.000000</td>\n",
       "      <td>2.000000</td>\n",
       "      <td>2.00000</td>\n",
       "      <td>134.000000</td>\n",
       "    </tr>\n",
       "    <tr>\n",
       "      <th>max</th>\n",
       "      <td>1.079568e+18</td>\n",
       "      <td>11.000000</td>\n",
       "      <td>2.000000</td>\n",
       "      <td>5.000000</td>\n",
       "      <td>7.00000</td>\n",
       "      <td>255.000000</td>\n",
       "    </tr>\n",
       "  </tbody>\n",
       "</table>\n",
       "</div>"
      ],
      "text/plain": [
       "                 id  accommodates  bathrooms   bedrooms      beds       price\n",
       "count  4.000000e+01     40.000000  25.000000  36.000000  25.00000   25.000000\n",
       "mean   3.573757e+17      2.875000   1.160000   1.361111   1.68000  108.640000\n",
       "std    4.542875e+17      1.712511   0.374166   0.798312   1.40594   62.980076\n",
       "min    1.314489e+06      1.000000   1.000000   0.000000   1.00000   48.000000\n",
       "25%    1.928660e+07      2.000000   1.000000   1.000000   1.00000   66.000000\n",
       "50%    4.097990e+07      2.000000   1.000000   1.000000   1.00000   80.000000\n",
       "75%    8.412844e+17      4.000000   1.000000   2.000000   2.00000  134.000000\n",
       "max    1.079568e+18     11.000000   2.000000   5.000000   7.00000  255.000000"
      ]
     },
     "execution_count": 17,
     "metadata": {},
     "output_type": "execute_result"
    }
   ],
   "source": [
    "sample.describe()"
   ]
  },
  {
   "cell_type": "markdown",
   "metadata": {},
   "source": [
    "Entonces, nuestra estimación estuvo bastante cerca del parámetro de la población: la media estuvo aproximadamente un 0.7% fuera. Es importante destacar que usualmente no podemos calcular la precisión de la estimación en la práctica, ya que no tenemos acceso al parámetro de la población; si lo tuviéramos, ¡no necesitaríamos estimarlo!\n",
    "\n",
    "Además, recordemos que la estimación puntual puede variar; si tomáramos otra muestra aleatoria de la población, el valor de nuestra estimación podría cambiar. Entonces, ¿acaso tuvimos suerte con nuestra estimación puntual anterior? ¿Cuánto varía nuestra estimación a través de diferentes muestras de tamaño 40 en este ejemplo? Una vez más, dado que tenemos acceso a la población, podemos tomar muchas muestras y graficar la distribución muestral de las medias muestrales para entender esta variabilidad. En este caso, utilizaremos las 10,000 muestras de tamaño 40 que ya almacenamos en la variable samples. Primero calcularemos la media muestral para cada réplica y luego graficaremos la distribución muestral de las medias muestrales para muestras de tamaño 40."
   ]
  },
  {
   "cell_type": "code",
   "execution_count": 18,
   "metadata": {},
   "outputs": [
    {
     "data": {
      "text/html": [
       "<div>\n",
       "<style scoped>\n",
       "    .dataframe tbody tr th:only-of-type {\n",
       "        vertical-align: middle;\n",
       "    }\n",
       "\n",
       "    .dataframe tbody tr th {\n",
       "        vertical-align: top;\n",
       "    }\n",
       "\n",
       "    .dataframe thead th {\n",
       "        text-align: right;\n",
       "    }\n",
       "</style>\n",
       "<table border=\"1\" class=\"dataframe\">\n",
       "  <thead>\n",
       "    <tr style=\"text-align: right;\">\n",
       "      <th></th>\n",
       "      <th>replicate</th>\n",
       "      <th>mean_price</th>\n",
       "    </tr>\n",
       "  </thead>\n",
       "  <tbody>\n",
       "    <tr>\n",
       "      <th>0</th>\n",
       "      <td>0</td>\n",
       "      <td>95.758621</td>\n",
       "    </tr>\n",
       "    <tr>\n",
       "      <th>1</th>\n",
       "      <td>1</td>\n",
       "      <td>83.192308</td>\n",
       "    </tr>\n",
       "    <tr>\n",
       "      <th>2</th>\n",
       "      <td>2</td>\n",
       "      <td>256.888889</td>\n",
       "    </tr>\n",
       "    <tr>\n",
       "      <th>3</th>\n",
       "      <td>3</td>\n",
       "      <td>127.250000</td>\n",
       "    </tr>\n",
       "    <tr>\n",
       "      <th>4</th>\n",
       "      <td>4</td>\n",
       "      <td>118.190476</td>\n",
       "    </tr>\n",
       "  </tbody>\n",
       "</table>\n",
       "</div>"
      ],
      "text/plain": [
       "   replicate  mean_price\n",
       "0          0   95.758621\n",
       "1          1   83.192308\n",
       "2          2  256.888889\n",
       "3          3  127.250000\n",
       "4          4  118.190476"
      ]
     },
     "execution_count": 18,
     "metadata": {},
     "output_type": "execute_result"
    }
   ],
   "source": [
    "estimates = samples.groupby(\"replicate\")[\"price\"].mean().reset_index().rename(columns={\"price\": \"mean_price\"})\n",
    "\n",
    "estimates.head()"
   ]
  },
  {
   "cell_type": "code",
   "execution_count": 19,
   "metadata": {},
   "outputs": [
    {
     "data": {
      "image/png": "[encoded data removed]",
      "text/plain": [
       "<Figure size 600x400 with 1 Axes>"
      ]
     },
     "metadata": {},
     "output_type": "display_data"
    }
   ],
   "source": [
    "sns.histplot(x = 'mean_price', data=estimates, bins=100, kde=True, color=col)\n",
    "plt.axvline(x= np.mean(estimates['mean_price']), color=col, linestyle='--')\n",
    "\n",
    "plt.title('Precio medio por noche (dólares) de las muestras', fontsize=18)\n",
    "plt.xlabel('Precio por noche (Euros)', fontsize=12)\n",
    "plt.ylabel('Observados', fontsize=12)\n",
    "plt.show()"
   ]
  },
  {
   "cell_type": "markdown",
   "metadata": {},
   "source": [
    "La distribución muestral de la media presenta un único pico y tiene forma de campana. La mayoría de las estimaciones se encuentran entre aproximadamente 100 y 150 dólares; sin embargo, hay una buena cantidad de casos fuera de este rango (es decir, donde la estimación puntual no estuvo cerca del parámetro de la población). Parece que realmente tuvimos suerte al estimar la media poblacional con solo un error del 0.7%.\n",
    "\n",
    "<h2>¿Cómo se comparan gráficamente las muestras con la gráfica de la población?</h2>\n",
    "\n",
    "Visualicemos la distribución de la población, la distribución de la muestra y la distribución muestral para comparar cómo se comportan estas tres conjuntos de datos. Al observar estas distribuciones, podemos notar que los centros de cada una están aproximadamente alrededor del mismo precio, alrededor de 124 dólares. La distribución original de la población muestra una cola larga hacia la derecha, indicando que hay algunos listados con precios significativamente más altos que la mayoría. Por otro lado, la distribución de la muestra muestra una forma similar a la de la distribución poblacional, lo cual sugiere que la muestra captura de manera efectiva la estructura general de precios de la población.\n",
    "\n",
    "En contraste, la distribución muestral de las medias no replica la forma exacta de la población ni de la muestra individual, sino que presenta una forma de campana. Esta distribución muestral tiene una dispersión menor en comparación con las distribuciones de la población y de la muestra individual. Las medias muestrales tienden a variar menos que las observaciones individuales debido a que en cualquier muestra aleatoria pueden encontrarse tanto valores altos como bajos, lo cual tiende a equilibrar el promedio y evitar que sea demasiado extremo en cualquier dirección. Esta observación subraya la utilidad de la distribución muestral para entender la variabilidad y la precisión de las estimaciones basadas en muestras aleatorias de una población más amplia."
   ]
  },
  {
   "cell_type": "code",
   "execution_count": 20,
   "metadata": {},
   "outputs": [
    {
     "data": {
      "text/html": [
       "<div>\n",
       "<style scoped>\n",
       "    .dataframe tbody tr th:only-of-type {\n",
       "        vertical-align: middle;\n",
       "    }\n",
       "\n",
       "    .dataframe tbody tr th {\n",
       "        vertical-align: top;\n",
       "    }\n",
       "\n",
       "    .dataframe thead th {\n",
       "        text-align: right;\n",
       "    }\n",
       "</style>\n",
       "<table border=\"1\" class=\"dataframe\">\n",
       "  <thead>\n",
       "    <tr style=\"text-align: right;\">\n",
       "      <th></th>\n",
       "      <th>replicate</th>\n",
       "      <th>mean_price</th>\n",
       "    </tr>\n",
       "  </thead>\n",
       "  <tbody>\n",
       "    <tr>\n",
       "      <th>count</th>\n",
       "      <td>10000.00000</td>\n",
       "      <td>10000.000000</td>\n",
       "    </tr>\n",
       "    <tr>\n",
       "      <th>mean</th>\n",
       "      <td>4999.50000</td>\n",
       "      <td>129.045754</td>\n",
       "    </tr>\n",
       "    <tr>\n",
       "      <th>std</th>\n",
       "      <td>2886.89568</td>\n",
       "      <td>25.599459</td>\n",
       "    </tr>\n",
       "    <tr>\n",
       "      <th>min</th>\n",
       "      <td>0.00000</td>\n",
       "      <td>72.277778</td>\n",
       "    </tr>\n",
       "    <tr>\n",
       "      <th>25%</th>\n",
       "      <td>2499.75000</td>\n",
       "      <td>112.146825</td>\n",
       "    </tr>\n",
       "    <tr>\n",
       "      <th>50%</th>\n",
       "      <td>4999.50000</td>\n",
       "      <td>124.811254</td>\n",
       "    </tr>\n",
       "    <tr>\n",
       "      <th>75%</th>\n",
       "      <td>7499.25000</td>\n",
       "      <td>140.486111</td>\n",
       "    </tr>\n",
       "    <tr>\n",
       "      <th>max</th>\n",
       "      <td>9999.00000</td>\n",
       "      <td>344.500000</td>\n",
       "    </tr>\n",
       "  </tbody>\n",
       "</table>\n",
       "</div>"
      ],
      "text/plain": [
       "         replicate    mean_price\n",
       "count  10000.00000  10000.000000\n",
       "mean    4999.50000    129.045754\n",
       "std     2886.89568     25.599459\n",
       "min        0.00000     72.277778\n",
       "25%     2499.75000    112.146825\n",
       "50%     4999.50000    124.811254\n",
       "75%     7499.25000    140.486111\n",
       "max     9999.00000    344.500000"
      ]
     },
     "execution_count": 20,
     "metadata": {},
     "output_type": "execute_result"
    }
   ],
   "source": [
    "estimates.describe()"
   ]
  },
  {
   "cell_type": "markdown",
   "metadata": {},
   "source": [
    "<h2>Conclusión</h2>\n",
    "\n",
    "En este análisis, hemos explorado la distribución de precios por noche de los listados de Airbnb en Berlín mediante tres perspectivas: la población completa, una muestra aleatoria y la distribución muestral de las medias. Observamos que los precios tienden a centrarse alrededor de los 124 dólares en todas las distribuciones. La distribución de la población exhibe una cola larga hacia la derecha, indicando la presencia de algunos listados con precios notablemente elevados. Por otro lado, la muestra aleatoria captura de manera efectiva la forma general de la distribución poblacional.\n",
    "\n",
    "La distribución muestral de las medias, en cambio, presenta una forma de campana y una menor dispersión en comparación con las distribuciones anteriores. Esto sugiere que, aunque las observaciones individuales pueden variar ampliamente, las medias muestrales tienden a ser más consistentes y cercanas al verdadero valor poblacional promedio debido a la cancelación de efectos extremos en las muestras aleatorias.\n",
    "\n",
    "En conclusión, la visualización y comparación de estas tres distribuciones nos permiten entender cómo se comportan los precios de los listados de Airbnb en Berlín a nivel poblacional, en muestras individuales y en medias muestrales. Esta metodología es fundamental para realizar inferencias precisas sobre la población basadas en muestras, proporcionando insights valiosos para decisiones informadas en ámbitos como planificación de viajes, evaluación de mercado y análisis de políticas públicas."
   ]
  }
 ],
 "metadata": {
  "kernelspec": {
   "display_name": "Python 3",
   "language": "python",
   "name": "python3"
  },
  "language_info": {
   "codemirror_mode": {
    "name": "ipython",
    "version": 3
   },
   "file_extension": ".py",
   "mimetype": "text/x-python",
   "name": "python",
   "nbconvert_exporter": "python",
   "pygments_lexer": "ipython3",
   "version": "3.8.5"
  }
 },
 "nbformat": 4,
 "nbformat_minor": 2
}
